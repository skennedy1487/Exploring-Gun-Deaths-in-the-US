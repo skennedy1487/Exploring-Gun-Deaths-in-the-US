{
 "cells": [
  {
   "cell_type": "markdown",
   "metadata": {
    "collapsed": true
   },
   "source": [
    "Introducing US Gun Deaths Data"
   ]
  },
  {
   "cell_type": "code",
   "execution_count": 11,
   "metadata": {
    "collapsed": false
   },
   "outputs": [
    {
     "name": "stdout",
     "output_type": "stream",
     "text": [
      "['', 'year', 'month', 'intent', 'police', 'sex', 'age', 'race', 'hispanic', 'place', 'education']\n",
      "[['1', '2012', '01', 'Suicide', '0', 'M', '34', 'Asian/Pacific Islander', '100', 'Home', '4'], ['2', '2012', '01', 'Suicide', '0', 'F', '21', 'White', '100', 'Street', '3'], ['3', '2012', '01', 'Suicide', '0', 'M', '60', 'White', '100', 'Other specified', '4'], ['4', '2012', '02', 'Suicide', '0', 'M', '64', 'White', '100', 'Home', '4'], ['5', '2012', '02', 'Suicide', '0', 'M', '31', 'White', '100', 'Other specified', '2']]\n"
     ]
    }
   ],
   "source": [
    "import csv\n",
    "f = open('guns.csv','r')\n",
    "csvreader = csv.reader(f)\n",
    "data = list(csvreader)\n",
    "headers = data[0]\n",
    "data = data[1:]\n",
    "print(headers)\n",
    "print(data[0:5])\n",
    "\n"
   ]
  },
  {
   "cell_type": "markdown",
   "metadata": {},
   "source": [
    "Counting Gun Deaths By Year"
   ]
  },
  {
   "cell_type": "code",
   "execution_count": 12,
   "metadata": {
    "collapsed": false
   },
   "outputs": [
    {
     "data": {
      "text/plain": [
       "{'2012': 33563, '2013': 33636, '2014': 33599}"
      ]
     },
     "execution_count": 12,
     "metadata": {},
     "output_type": "execute_result"
    }
   ],
   "source": [
    "#returns dictionary of unique values in selected column (either column number or header name)\n",
    "#and count of those values for each column name\n",
    "def dict_cnt(dataset,colname):\n",
    "    if type(colname) != str:\n",
    "        col_num = colname\n",
    "    else:\n",
    "        col_num = None\n",
    "        for k,v in enumerate(headers):\n",
    "            if colname == v:\n",
    "                col_num = k    \n",
    "    tempdataset = []\n",
    "    for d in dataset:\n",
    "        tempdataset.append(d[col_num])\n",
    "    dic = {}\n",
    "    for t in tempdataset:\n",
    "        if t in dic:\n",
    "            dic[t] += 1\n",
    "        else:\n",
    "            dic[t] = 1\n",
    "    return dic\n",
    "\n",
    "year_counts = dict_cnt(data,'year')\n",
    "year_counts\n",
    "    "
   ]
  },
  {
   "cell_type": "markdown",
   "metadata": {},
   "source": [
    "Exploring Gun Deaths by Month and Year"
   ]
  },
  {
   "cell_type": "code",
   "execution_count": 13,
   "metadata": {
    "collapsed": false
   },
   "outputs": [
    {
     "data": {
      "text/plain": [
       "{'2012-01-01': 2758,\n",
       " '2012-02-01': 2357,\n",
       " '2012-03-01': 2743,\n",
       " '2012-04-01': 2795,\n",
       " '2012-05-01': 2999,\n",
       " '2012-06-01': 2826,\n",
       " '2012-07-01': 3026,\n",
       " '2012-08-01': 2954,\n",
       " '2012-09-01': 2852,\n",
       " '2012-10-01': 2733,\n",
       " '2012-11-01': 2729,\n",
       " '2012-12-01': 2791,\n",
       " '2013-01-01': 2864,\n",
       " '2013-02-01': 2375,\n",
       " '2013-03-01': 2862,\n",
       " '2013-04-01': 2798,\n",
       " '2013-05-01': 2806,\n",
       " '2013-06-01': 2920,\n",
       " '2013-07-01': 3079,\n",
       " '2013-08-01': 2859,\n",
       " '2013-09-01': 2742,\n",
       " '2013-10-01': 2808,\n",
       " '2013-11-01': 2758,\n",
       " '2013-12-01': 2765,\n",
       " '2014-01-01': 2651,\n",
       " '2014-02-01': 2361,\n",
       " '2014-03-01': 2684,\n",
       " '2014-04-01': 2862,\n",
       " '2014-05-01': 2864,\n",
       " '2014-06-01': 2931,\n",
       " '2014-07-01': 2884,\n",
       " '2014-08-01': 2970,\n",
       " '2014-09-01': 2914,\n",
       " '2014-10-01': 2865,\n",
       " '2014-11-01': 2756,\n",
       " '2014-12-01': 2857}"
      ]
     },
     "execution_count": 13,
     "metadata": {},
     "output_type": "execute_result"
    }
   ],
   "source": [
    "import datetime\n",
    "dates = []\n",
    "for d in data:\n",
    "    y = int(d[1])\n",
    "    m = int(d[2])\n",
    "    dt = datetime.datetime(year=y, month=m, day=1)\n",
    "    dt = dt.strftime('%Y-%m-%d')\n",
    "    #create 11th column in data table, strftime date comprised of year and month\n",
    "    d.append(dt)\n",
    "\n",
    "year_counts = dict_cnt(data,11)\n",
    "year_counts    \n",
    "    "
   ]
  },
  {
   "cell_type": "markdown",
   "metadata": {},
   "source": [
    "Exploring Gun Deaths By Race"
   ]
  },
  {
   "cell_type": "code",
   "execution_count": 14,
   "metadata": {
    "collapsed": false
   },
   "outputs": [
    {
     "data": {
      "text/plain": [
       "{'Asian/Pacific Islander': 1326,\n",
       " 'Black': 23296,\n",
       " 'Hispanic': 9022,\n",
       " 'Native American/Native Alaskan': 917,\n",
       " 'White': 66237}"
      ]
     },
     "execution_count": 14,
     "metadata": {},
     "output_type": "execute_result"
    }
   ],
   "source": [
    "race_counts = dict_cnt(data,'race')\n",
    "race_counts"
   ]
  },
  {
   "cell_type": "markdown",
   "metadata": {},
   "source": [
    "Exploring Gun Deaths By Sex"
   ]
  },
  {
   "cell_type": "code",
   "execution_count": 15,
   "metadata": {
    "collapsed": false
   },
   "outputs": [
    {
     "data": {
      "text/plain": [
       "{'F': 14449, 'M': 86349}"
      ]
     },
     "execution_count": 15,
     "metadata": {},
     "output_type": "execute_result"
    }
   ],
   "source": [
    "sex_counts = dict_cnt(data,'sex')\n",
    "sex_counts"
   ]
  },
  {
   "cell_type": "markdown",
   "metadata": {},
   "source": [
    "Reading in a Second Dataset - census"
   ]
  },
  {
   "cell_type": "code",
   "execution_count": 16,
   "metadata": {
    "collapsed": false
   },
   "outputs": [
    {
     "data": {
      "text/plain": [
       "[['Id',\n",
       "  'Year',\n",
       "  'Id',\n",
       "  'Sex',\n",
       "  'Id',\n",
       "  'Hispanic Origin',\n",
       "  'Id',\n",
       "  'Id2',\n",
       "  'Geography',\n",
       "  'Total',\n",
       "  'Race Alone - White',\n",
       "  'Race Alone - Hispanic',\n",
       "  'Race Alone - Black or African American',\n",
       "  'Race Alone - American Indian and Alaska Native',\n",
       "  'Race Alone - Asian',\n",
       "  'Race Alone - Native Hawaiian and Other Pacific Islander',\n",
       "  'Two or More Races'],\n",
       " ['cen42010',\n",
       "  'April 1, 2010 Census',\n",
       "  'totsex',\n",
       "  'Both Sexes',\n",
       "  'tothisp',\n",
       "  'Total',\n",
       "  '0100000US',\n",
       "  '',\n",
       "  'United States',\n",
       "  '308745538',\n",
       "  '197318956',\n",
       "  '44618105',\n",
       "  '40250635',\n",
       "  '3739506',\n",
       "  '15159516',\n",
       "  '674625',\n",
       "  '6984195']]"
      ]
     },
     "execution_count": 16,
     "metadata": {},
     "output_type": "execute_result"
    }
   ],
   "source": [
    "c = open('census.csv','r')\n",
    "csvreader = csv.reader(c)\n",
    "census = list(csvreader)\n",
    "census"
   ]
  },
  {
   "cell_type": "markdown",
   "metadata": {
    "collapsed": true
   },
   "source": [
    "Computing Rates of Gun Deaths Per Race"
   ]
  },
  {
   "cell_type": "code",
   "execution_count": 17,
   "metadata": {
    "collapsed": false
   },
   "outputs": [
    {
     "data": {
      "text/plain": [
       "{'Asian/Pacific Islander': 8.374309664161762,\n",
       " 'Black': 57.8773477735196,\n",
       " 'Hispanic': 20.220491210910907,\n",
       " 'Native American/Native Alaskan': 24.521955573811088,\n",
       " 'White': 33.56849303419181}"
      ]
     },
     "execution_count": 17,
     "metadata": {},
     "output_type": "execute_result"
    }
   ],
   "source": [
    "mapping = {}\n",
    "census_race = []\n",
    "for c in census:\n",
    "    census_race.append(c[10:16])\n",
    "census_race\n",
    "\n",
    "mapping['White'] = int(census_race[1][0])\n",
    "mapping['Hispanic'] = int(census_race[1][1])\n",
    "mapping['Black'] = int(census_race[1][2])\n",
    "mapping['Native American/Native Alaskan'] = int(census_race[1][3])\n",
    "mapping['Asian/Pacific Islander'] = int(census_race[1][4]) + int(census_race[1][5])\n",
    "\n",
    "race_per_hundredk = {}\n",
    "for k,v in race_counts.items():\n",
    "    race_per_hundredk[k] = v/mapping[k] * 100000\n",
    "race_per_hundredk\n"
   ]
  },
  {
   "cell_type": "markdown",
   "metadata": {
    "collapsed": true
   },
   "source": [
    "Filtering By Intent"
   ]
  },
  {
   "cell_type": "code",
   "execution_count": 21,
   "metadata": {
    "collapsed": false
   },
   "outputs": [
    {
     "data": {
      "text/plain": [
       "{'Asian/Pacific Islander': 3.530346230970155,\n",
       " 'Black': 48.471284987180944,\n",
       " 'Hispanic': 12.627161104219914,\n",
       " 'Native American/Native Alaskan': 8.717729026240365,\n",
       " 'White': 4.6356417981453335}"
      ]
     },
     "execution_count": 21,
     "metadata": {},
     "output_type": "execute_result"
    }
   ],
   "source": [
    "intents = []\n",
    "for d in data:\n",
    "    intents.append(d[3])\n",
    "intents\n",
    "races = []\n",
    "for d in data:\n",
    "    races.append(d[7])\n",
    "    \n",
    "homicide_race_counts = {}\n",
    "for i,r in enumerate(races):\n",
    "    if intents[i] == 'Homicide':\n",
    "        if r in homicide_race_counts:\n",
    "            homicide_race_counts[r] += 1\n",
    "        else:\n",
    "            homicide_race_counts[r] = 1\n",
    "\n",
    "for k,v in homicide_race_counts.items():\n",
    "    homicide_race_counts[k] = v/mapping[k] * 100000\n",
    "homicide_race_counts\n",
    "    "
   ]
  },
  {
   "cell_type": "code",
   "execution_count": null,
   "metadata": {
    "collapsed": true
   },
   "outputs": [],
   "source": []
  }
 ],
 "metadata": {
  "kernelspec": {
   "display_name": "Python 3",
   "language": "python",
   "name": "python3"
  },
  "language_info": {
   "codemirror_mode": {
    "name": "ipython",
    "version": 3
   },
   "file_extension": ".py",
   "mimetype": "text/x-python",
   "name": "python",
   "nbconvert_exporter": "python",
   "pygments_lexer": "ipython3",
   "version": "3.4.3"
  }
 },
 "nbformat": 4,
 "nbformat_minor": 0
}
